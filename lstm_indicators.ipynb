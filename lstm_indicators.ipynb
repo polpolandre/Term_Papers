{
  "nbformat": 4,
  "nbformat_minor": 0,
  "metadata": {
    "accelerator": "GPU",
    "colab": {
      "name": "ВКР lstm",
      "provenance": [],
      "collapsed_sections": []
    },
    "kernelspec": {
      "display_name": "Python 3",
      "name": "python3"
    },
    "widgets": {
      "application/vnd.jupyter.widget-state+json": {
        "a5c1960e83f44faeba0121cd867831e9": {
          "model_module": "@jupyter-widgets/controls",
          "model_name": "HBoxModel",
          "model_module_version": "1.5.0",
          "state": {
            "_view_name": "HBoxView",
            "_dom_classes": [],
            "_model_name": "HBoxModel",
            "_view_module": "@jupyter-widgets/controls",
            "_model_module_version": "1.5.0",
            "_view_count": null,
            "_view_module_version": "1.5.0",
            "box_style": "",
            "layout": "IPY_MODEL_10bd2bf0b93e4d0ca219c2566b3e30ab",
            "_model_module": "@jupyter-widgets/controls",
            "children": [
              "IPY_MODEL_f4703e46803d477b9931ee9707adcd86",
              "IPY_MODEL_7c25d10dd8b2474f8130b3043a82ceaa",
              "IPY_MODEL_71081c8aba724233b851ffc742aed026"
            ]
          }
        },
        "10bd2bf0b93e4d0ca219c2566b3e30ab": {
          "model_module": "@jupyter-widgets/base",
          "model_name": "LayoutModel",
          "model_module_version": "1.2.0",
          "state": {
            "_view_name": "LayoutView",
            "grid_template_rows": null,
            "right": null,
            "justify_content": null,
            "_view_module": "@jupyter-widgets/base",
            "overflow": null,
            "_model_module_version": "1.2.0",
            "_view_count": null,
            "flex_flow": null,
            "width": null,
            "min_width": null,
            "border": null,
            "align_items": null,
            "bottom": null,
            "_model_module": "@jupyter-widgets/base",
            "top": null,
            "grid_column": null,
            "overflow_y": null,
            "overflow_x": null,
            "grid_auto_flow": null,
            "grid_area": null,
            "grid_template_columns": null,
            "flex": null,
            "_model_name": "LayoutModel",
            "justify_items": null,
            "grid_row": null,
            "max_height": null,
            "align_content": null,
            "visibility": null,
            "align_self": null,
            "height": null,
            "min_height": null,
            "padding": null,
            "grid_auto_rows": null,
            "grid_gap": null,
            "max_width": null,
            "order": null,
            "_view_module_version": "1.2.0",
            "grid_template_areas": null,
            "object_position": null,
            "object_fit": null,
            "grid_auto_columns": null,
            "margin": null,
            "display": null,
            "left": null
          }
        },
        "f4703e46803d477b9931ee9707adcd86": {
          "model_module": "@jupyter-widgets/controls",
          "model_name": "HTMLModel",
          "model_module_version": "1.5.0",
          "state": {
            "_view_name": "HTMLView",
            "style": "IPY_MODEL_f0ba852c02314ecab0f78b1ab1527217",
            "_dom_classes": [],
            "description": "",
            "_model_name": "HTMLModel",
            "placeholder": "​",
            "_view_module": "@jupyter-widgets/controls",
            "_model_module_version": "1.5.0",
            "value": "100%",
            "_view_count": null,
            "_view_module_version": "1.5.0",
            "description_tooltip": null,
            "_model_module": "@jupyter-widgets/controls",
            "layout": "IPY_MODEL_93cb6845c4b44c2c99dcb8efb26009ab"
          }
        },
        "7c25d10dd8b2474f8130b3043a82ceaa": {
          "model_module": "@jupyter-widgets/controls",
          "model_name": "FloatProgressModel",
          "model_module_version": "1.5.0",
          "state": {
            "_view_name": "ProgressView",
            "style": "IPY_MODEL_4370f434a9d0426c8b88f9bd8ef98c11",
            "_dom_classes": [],
            "description": "",
            "_model_name": "FloatProgressModel",
            "bar_style": "success",
            "max": 77577,
            "_view_module": "@jupyter-widgets/controls",
            "_model_module_version": "1.5.0",
            "value": 77577,
            "_view_count": null,
            "_view_module_version": "1.5.0",
            "orientation": "horizontal",
            "min": 0,
            "description_tooltip": null,
            "_model_module": "@jupyter-widgets/controls",
            "layout": "IPY_MODEL_32cb33e928cb42f7807c51c155d57727"
          }
        },
        "71081c8aba724233b851ffc742aed026": {
          "model_module": "@jupyter-widgets/controls",
          "model_name": "HTMLModel",
          "model_module_version": "1.5.0",
          "state": {
            "_view_name": "HTMLView",
            "style": "IPY_MODEL_0bbe548999ae486a936efbab58bcc2d6",
            "_dom_classes": [],
            "description": "",
            "_model_name": "HTMLModel",
            "placeholder": "​",
            "_view_module": "@jupyter-widgets/controls",
            "_model_module_version": "1.5.0",
            "value": " 77577/77577 [11:55&lt;00:00, 108.09it/s]",
            "_view_count": null,
            "_view_module_version": "1.5.0",
            "description_tooltip": null,
            "_model_module": "@jupyter-widgets/controls",
            "layout": "IPY_MODEL_d3abcbd47b04442f9febd1d0f2296432"
          }
        },
        "f0ba852c02314ecab0f78b1ab1527217": {
          "model_module": "@jupyter-widgets/controls",
          "model_name": "DescriptionStyleModel",
          "model_module_version": "1.5.0",
          "state": {
            "_view_name": "StyleView",
            "_model_name": "DescriptionStyleModel",
            "description_width": "",
            "_view_module": "@jupyter-widgets/base",
            "_model_module_version": "1.5.0",
            "_view_count": null,
            "_view_module_version": "1.2.0",
            "_model_module": "@jupyter-widgets/controls"
          }
        },
        "93cb6845c4b44c2c99dcb8efb26009ab": {
          "model_module": "@jupyter-widgets/base",
          "model_name": "LayoutModel",
          "model_module_version": "1.2.0",
          "state": {
            "_view_name": "LayoutView",
            "grid_template_rows": null,
            "right": null,
            "justify_content": null,
            "_view_module": "@jupyter-widgets/base",
            "overflow": null,
            "_model_module_version": "1.2.0",
            "_view_count": null,
            "flex_flow": null,
            "width": null,
            "min_width": null,
            "border": null,
            "align_items": null,
            "bottom": null,
            "_model_module": "@jupyter-widgets/base",
            "top": null,
            "grid_column": null,
            "overflow_y": null,
            "overflow_x": null,
            "grid_auto_flow": null,
            "grid_area": null,
            "grid_template_columns": null,
            "flex": null,
            "_model_name": "LayoutModel",
            "justify_items": null,
            "grid_row": null,
            "max_height": null,
            "align_content": null,
            "visibility": null,
            "align_self": null,
            "height": null,
            "min_height": null,
            "padding": null,
            "grid_auto_rows": null,
            "grid_gap": null,
            "max_width": null,
            "order": null,
            "_view_module_version": "1.2.0",
            "grid_template_areas": null,
            "object_position": null,
            "object_fit": null,
            "grid_auto_columns": null,
            "margin": null,
            "display": null,
            "left": null
          }
        },
        "4370f434a9d0426c8b88f9bd8ef98c11": {
          "model_module": "@jupyter-widgets/controls",
          "model_name": "ProgressStyleModel",
          "model_module_version": "1.5.0",
          "state": {
            "_view_name": "StyleView",
            "_model_name": "ProgressStyleModel",
            "description_width": "",
            "_view_module": "@jupyter-widgets/base",
            "_model_module_version": "1.5.0",
            "_view_count": null,
            "_view_module_version": "1.2.0",
            "bar_color": null,
            "_model_module": "@jupyter-widgets/controls"
          }
        },
        "32cb33e928cb42f7807c51c155d57727": {
          "model_module": "@jupyter-widgets/base",
          "model_name": "LayoutModel",
          "model_module_version": "1.2.0",
          "state": {
            "_view_name": "LayoutView",
            "grid_template_rows": null,
            "right": null,
            "justify_content": null,
            "_view_module": "@jupyter-widgets/base",
            "overflow": null,
            "_model_module_version": "1.2.0",
            "_view_count": null,
            "flex_flow": null,
            "width": null,
            "min_width": null,
            "border": null,
            "align_items": null,
            "bottom": null,
            "_model_module": "@jupyter-widgets/base",
            "top": null,
            "grid_column": null,
            "overflow_y": null,
            "overflow_x": null,
            "grid_auto_flow": null,
            "grid_area": null,
            "grid_template_columns": null,
            "flex": null,
            "_model_name": "LayoutModel",
            "justify_items": null,
            "grid_row": null,
            "max_height": null,
            "align_content": null,
            "visibility": null,
            "align_self": null,
            "height": null,
            "min_height": null,
            "padding": null,
            "grid_auto_rows": null,
            "grid_gap": null,
            "max_width": null,
            "order": null,
            "_view_module_version": "1.2.0",
            "grid_template_areas": null,
            "object_position": null,
            "object_fit": null,
            "grid_auto_columns": null,
            "margin": null,
            "display": null,
            "left": null
          }
        },
        "0bbe548999ae486a936efbab58bcc2d6": {
          "model_module": "@jupyter-widgets/controls",
          "model_name": "DescriptionStyleModel",
          "model_module_version": "1.5.0",
          "state": {
            "_view_name": "StyleView",
            "_model_name": "DescriptionStyleModel",
            "description_width": "",
            "_view_module": "@jupyter-widgets/base",
            "_model_module_version": "1.5.0",
            "_view_count": null,
            "_view_module_version": "1.2.0",
            "_model_module": "@jupyter-widgets/controls"
          }
        },
        "d3abcbd47b04442f9febd1d0f2296432": {
          "model_module": "@jupyter-widgets/base",
          "model_name": "LayoutModel",
          "model_module_version": "1.2.0",
          "state": {
            "_view_name": "LayoutView",
            "grid_template_rows": null,
            "right": null,
            "justify_content": null,
            "_view_module": "@jupyter-widgets/base",
            "overflow": null,
            "_model_module_version": "1.2.0",
            "_view_count": null,
            "flex_flow": null,
            "width": null,
            "min_width": null,
            "border": null,
            "align_items": null,
            "bottom": null,
            "_model_module": "@jupyter-widgets/base",
            "top": null,
            "grid_column": null,
            "overflow_y": null,
            "overflow_x": null,
            "grid_auto_flow": null,
            "grid_area": null,
            "grid_template_columns": null,
            "flex": null,
            "_model_name": "LayoutModel",
            "justify_items": null,
            "grid_row": null,
            "max_height": null,
            "align_content": null,
            "visibility": null,
            "align_self": null,
            "height": null,
            "min_height": null,
            "padding": null,
            "grid_auto_rows": null,
            "grid_gap": null,
            "max_width": null,
            "order": null,
            "_view_module_version": "1.2.0",
            "grid_template_areas": null,
            "object_position": null,
            "object_fit": null,
            "grid_auto_columns": null,
            "margin": null,
            "display": null,
            "left": null
          }
        },
        "204b3abc354d4621840f03bc3cdbcde5": {
          "model_module": "@jupyter-widgets/controls",
          "model_name": "HBoxModel",
          "model_module_version": "1.5.0",
          "state": {
            "_view_name": "HBoxView",
            "_dom_classes": [],
            "_model_name": "HBoxModel",
            "_view_module": "@jupyter-widgets/controls",
            "_model_module_version": "1.5.0",
            "_view_count": null,
            "_view_module_version": "1.5.0",
            "box_style": "",
            "layout": "IPY_MODEL_858b34dfea0043f2a5f2883843f078e9",
            "_model_module": "@jupyter-widgets/controls",
            "children": [
              "IPY_MODEL_185abafcebd14379aafc8d762f943b47",
              "IPY_MODEL_84d9fde4d6cb43c687b5b5171814ff00",
              "IPY_MODEL_e0aaa14834444fbeaf731895917f1cad"
            ]
          }
        },
        "858b34dfea0043f2a5f2883843f078e9": {
          "model_module": "@jupyter-widgets/base",
          "model_name": "LayoutModel",
          "model_module_version": "1.2.0",
          "state": {
            "_view_name": "LayoutView",
            "grid_template_rows": null,
            "right": null,
            "justify_content": null,
            "_view_module": "@jupyter-widgets/base",
            "overflow": null,
            "_model_module_version": "1.2.0",
            "_view_count": null,
            "flex_flow": null,
            "width": null,
            "min_width": null,
            "border": null,
            "align_items": null,
            "bottom": null,
            "_model_module": "@jupyter-widgets/base",
            "top": null,
            "grid_column": null,
            "overflow_y": null,
            "overflow_x": null,
            "grid_auto_flow": null,
            "grid_area": null,
            "grid_template_columns": null,
            "flex": null,
            "_model_name": "LayoutModel",
            "justify_items": null,
            "grid_row": null,
            "max_height": null,
            "align_content": null,
            "visibility": null,
            "align_self": null,
            "height": null,
            "min_height": null,
            "padding": null,
            "grid_auto_rows": null,
            "grid_gap": null,
            "max_width": null,
            "order": null,
            "_view_module_version": "1.2.0",
            "grid_template_areas": null,
            "object_position": null,
            "object_fit": null,
            "grid_auto_columns": null,
            "margin": null,
            "display": null,
            "left": null
          }
        },
        "185abafcebd14379aafc8d762f943b47": {
          "model_module": "@jupyter-widgets/controls",
          "model_name": "HTMLModel",
          "model_module_version": "1.5.0",
          "state": {
            "_view_name": "HTMLView",
            "style": "IPY_MODEL_66c00cb60b1f47ce9340ff3934a20316",
            "_dom_classes": [],
            "description": "",
            "_model_name": "HTMLModel",
            "placeholder": "​",
            "_view_module": "@jupyter-widgets/controls",
            "_model_module_version": "1.5.0",
            "value": "  0%",
            "_view_count": null,
            "_view_module_version": "1.5.0",
            "description_tooltip": null,
            "_model_module": "@jupyter-widgets/controls",
            "layout": "IPY_MODEL_75b07ac340eb4869b5999cfc85955813"
          }
        },
        "84d9fde4d6cb43c687b5b5171814ff00": {
          "model_module": "@jupyter-widgets/controls",
          "model_name": "FloatProgressModel",
          "model_module_version": "1.5.0",
          "state": {
            "_view_name": "ProgressView",
            "style": "IPY_MODEL_0c9f320bd8de403790be357111bd7119",
            "_dom_classes": [],
            "description": "",
            "_model_name": "FloatProgressModel",
            "bar_style": "danger",
            "max": 25859,
            "_view_module": "@jupyter-widgets/controls",
            "_model_module_version": "1.5.0",
            "value": 0,
            "_view_count": null,
            "_view_module_version": "1.5.0",
            "orientation": "horizontal",
            "min": 0,
            "description_tooltip": null,
            "_model_module": "@jupyter-widgets/controls",
            "layout": "IPY_MODEL_d9bafd0e6c0c4ba4acf7d437608400c2"
          }
        },
        "e0aaa14834444fbeaf731895917f1cad": {
          "model_module": "@jupyter-widgets/controls",
          "model_name": "HTMLModel",
          "model_module_version": "1.5.0",
          "state": {
            "_view_name": "HTMLView",
            "style": "IPY_MODEL_af56fdc0b88c4e0abeb0cb57d17f068d",
            "_dom_classes": [],
            "description": "",
            "_model_name": "HTMLModel",
            "placeholder": "​",
            "_view_module": "@jupyter-widgets/controls",
            "_model_module_version": "1.5.0",
            "value": " 0/25859 [00:00&lt;?, ?it/s]",
            "_view_count": null,
            "_view_module_version": "1.5.0",
            "description_tooltip": null,
            "_model_module": "@jupyter-widgets/controls",
            "layout": "IPY_MODEL_4f1305d9cf0745e1b4b7b48dc47b0b4d"
          }
        },
        "66c00cb60b1f47ce9340ff3934a20316": {
          "model_module": "@jupyter-widgets/controls",
          "model_name": "DescriptionStyleModel",
          "model_module_version": "1.5.0",
          "state": {
            "_view_name": "StyleView",
            "_model_name": "DescriptionStyleModel",
            "description_width": "",
            "_view_module": "@jupyter-widgets/base",
            "_model_module_version": "1.5.0",
            "_view_count": null,
            "_view_module_version": "1.2.0",
            "_model_module": "@jupyter-widgets/controls"
          }
        },
        "75b07ac340eb4869b5999cfc85955813": {
          "model_module": "@jupyter-widgets/base",
          "model_name": "LayoutModel",
          "model_module_version": "1.2.0",
          "state": {
            "_view_name": "LayoutView",
            "grid_template_rows": null,
            "right": null,
            "justify_content": null,
            "_view_module": "@jupyter-widgets/base",
            "overflow": null,
            "_model_module_version": "1.2.0",
            "_view_count": null,
            "flex_flow": null,
            "width": null,
            "min_width": null,
            "border": null,
            "align_items": null,
            "bottom": null,
            "_model_module": "@jupyter-widgets/base",
            "top": null,
            "grid_column": null,
            "overflow_y": null,
            "overflow_x": null,
            "grid_auto_flow": null,
            "grid_area": null,
            "grid_template_columns": null,
            "flex": null,
            "_model_name": "LayoutModel",
            "justify_items": null,
            "grid_row": null,
            "max_height": null,
            "align_content": null,
            "visibility": null,
            "align_self": null,
            "height": null,
            "min_height": null,
            "padding": null,
            "grid_auto_rows": null,
            "grid_gap": null,
            "max_width": null,
            "order": null,
            "_view_module_version": "1.2.0",
            "grid_template_areas": null,
            "object_position": null,
            "object_fit": null,
            "grid_auto_columns": null,
            "margin": null,
            "display": null,
            "left": null
          }
        },
        "0c9f320bd8de403790be357111bd7119": {
          "model_module": "@jupyter-widgets/controls",
          "model_name": "ProgressStyleModel",
          "model_module_version": "1.5.0",
          "state": {
            "_view_name": "StyleView",
            "_model_name": "ProgressStyleModel",
            "description_width": "",
            "_view_module": "@jupyter-widgets/base",
            "_model_module_version": "1.5.0",
            "_view_count": null,
            "_view_module_version": "1.2.0",
            "bar_color": null,
            "_model_module": "@jupyter-widgets/controls"
          }
        },
        "d9bafd0e6c0c4ba4acf7d437608400c2": {
          "model_module": "@jupyter-widgets/base",
          "model_name": "LayoutModel",
          "model_module_version": "1.2.0",
          "state": {
            "_view_name": "LayoutView",
            "grid_template_rows": null,
            "right": null,
            "justify_content": null,
            "_view_module": "@jupyter-widgets/base",
            "overflow": null,
            "_model_module_version": "1.2.0",
            "_view_count": null,
            "flex_flow": null,
            "width": null,
            "min_width": null,
            "border": null,
            "align_items": null,
            "bottom": null,
            "_model_module": "@jupyter-widgets/base",
            "top": null,
            "grid_column": null,
            "overflow_y": null,
            "overflow_x": null,
            "grid_auto_flow": null,
            "grid_area": null,
            "grid_template_columns": null,
            "flex": null,
            "_model_name": "LayoutModel",
            "justify_items": null,
            "grid_row": null,
            "max_height": null,
            "align_content": null,
            "visibility": null,
            "align_self": null,
            "height": null,
            "min_height": null,
            "padding": null,
            "grid_auto_rows": null,
            "grid_gap": null,
            "max_width": null,
            "order": null,
            "_view_module_version": "1.2.0",
            "grid_template_areas": null,
            "object_position": null,
            "object_fit": null,
            "grid_auto_columns": null,
            "margin": null,
            "display": null,
            "left": null
          }
        },
        "af56fdc0b88c4e0abeb0cb57d17f068d": {
          "model_module": "@jupyter-widgets/controls",
          "model_name": "DescriptionStyleModel",
          "model_module_version": "1.5.0",
          "state": {
            "_view_name": "StyleView",
            "_model_name": "DescriptionStyleModel",
            "description_width": "",
            "_view_module": "@jupyter-widgets/base",
            "_model_module_version": "1.5.0",
            "_view_count": null,
            "_view_module_version": "1.2.0",
            "_model_module": "@jupyter-widgets/controls"
          }
        },
        "4f1305d9cf0745e1b4b7b48dc47b0b4d": {
          "model_module": "@jupyter-widgets/base",
          "model_name": "LayoutModel",
          "model_module_version": "1.2.0",
          "state": {
            "_view_name": "LayoutView",
            "grid_template_rows": null,
            "right": null,
            "justify_content": null,
            "_view_module": "@jupyter-widgets/base",
            "overflow": null,
            "_model_module_version": "1.2.0",
            "_view_count": null,
            "flex_flow": null,
            "width": null,
            "min_width": null,
            "border": null,
            "align_items": null,
            "bottom": null,
            "_model_module": "@jupyter-widgets/base",
            "top": null,
            "grid_column": null,
            "overflow_y": null,
            "overflow_x": null,
            "grid_auto_flow": null,
            "grid_area": null,
            "grid_template_columns": null,
            "flex": null,
            "_model_name": "LayoutModel",
            "justify_items": null,
            "grid_row": null,
            "max_height": null,
            "align_content": null,
            "visibility": null,
            "align_self": null,
            "height": null,
            "min_height": null,
            "padding": null,
            "grid_auto_rows": null,
            "grid_gap": null,
            "max_width": null,
            "order": null,
            "_view_module_version": "1.2.0",
            "grid_template_areas": null,
            "object_position": null,
            "object_fit": null,
            "grid_auto_columns": null,
            "margin": null,
            "display": null,
            "left": null
          }
        },
        "e2041912b3154b32bb0036acd5eaed85": {
          "model_module": "@jupyter-widgets/controls",
          "model_name": "HBoxModel",
          "model_module_version": "1.5.0",
          "state": {
            "_dom_classes": [],
            "_model_module": "@jupyter-widgets/controls",
            "_model_module_version": "1.5.0",
            "_model_name": "HBoxModel",
            "_view_count": null,
            "_view_module": "@jupyter-widgets/controls",
            "_view_module_version": "1.5.0",
            "_view_name": "HBoxView",
            "box_style": "",
            "children": [
              "IPY_MODEL_9bcc72692bb847a2aba6203814874f9a",
              "IPY_MODEL_12a497f6fa7d4b8e8022beedcf445f9a"
            ],
            "layout": "IPY_MODEL_52fc78d6ab304aba93029755ef0a11d8"
          }
        },
        "9bcc72692bb847a2aba6203814874f9a": {
          "model_module": "@jupyter-widgets/controls",
          "model_name": "FloatProgressModel",
          "model_module_version": "1.5.0",
          "state": {
            "_dom_classes": [],
            "_model_module": "@jupyter-widgets/controls",
            "_model_module_version": "1.5.0",
            "_model_name": "FloatProgressModel",
            "_view_count": null,
            "_view_module": "@jupyter-widgets/controls",
            "_view_module_version": "1.5.0",
            "_view_name": "ProgressView",
            "bar_style": "",
            "description": "  4%",
            "description_tooltip": null,
            "layout": "IPY_MODEL_36d76e467d334dd69b6ef5eae8852e8d",
            "max": 25859,
            "min": 0,
            "orientation": "horizontal",
            "style": "IPY_MODEL_5104acf3c92b4ee489187a63e1e04918",
            "value": 1153
          }
        },
        "12a497f6fa7d4b8e8022beedcf445f9a": {
          "model_module": "@jupyter-widgets/controls",
          "model_name": "HTMLModel",
          "model_module_version": "1.5.0",
          "state": {
            "_dom_classes": [],
            "_model_module": "@jupyter-widgets/controls",
            "_model_module_version": "1.5.0",
            "_model_name": "HTMLModel",
            "_view_count": null,
            "_view_module": "@jupyter-widgets/controls",
            "_view_module_version": "1.5.0",
            "_view_name": "HTMLView",
            "description": "",
            "description_tooltip": null,
            "layout": "IPY_MODEL_ee2fc6d0140b46a09c2d21e6080f0ff9",
            "placeholder": "​",
            "style": "IPY_MODEL_2470b9a1b3514590834a1f204452c31e",
            "value": " 1153/25859 [00:07&lt;02:26, 168.91it/s]"
          }
        },
        "52fc78d6ab304aba93029755ef0a11d8": {
          "model_module": "@jupyter-widgets/base",
          "model_name": "LayoutModel",
          "model_module_version": "1.2.0",
          "state": {
            "_model_module": "@jupyter-widgets/base",
            "_model_module_version": "1.2.0",
            "_model_name": "LayoutModel",
            "_view_count": null,
            "_view_module": "@jupyter-widgets/base",
            "_view_module_version": "1.2.0",
            "_view_name": "LayoutView",
            "align_content": null,
            "align_items": null,
            "align_self": null,
            "border": null,
            "bottom": null,
            "display": null,
            "flex": null,
            "flex_flow": null,
            "grid_area": null,
            "grid_auto_columns": null,
            "grid_auto_flow": null,
            "grid_auto_rows": null,
            "grid_column": null,
            "grid_gap": null,
            "grid_row": null,
            "grid_template_areas": null,
            "grid_template_columns": null,
            "grid_template_rows": null,
            "height": null,
            "justify_content": null,
            "justify_items": null,
            "left": null,
            "margin": null,
            "max_height": null,
            "max_width": null,
            "min_height": null,
            "min_width": null,
            "object_fit": null,
            "object_position": null,
            "order": null,
            "overflow": null,
            "overflow_x": null,
            "overflow_y": null,
            "padding": null,
            "right": null,
            "top": null,
            "visibility": null,
            "width": null
          }
        },
        "36d76e467d334dd69b6ef5eae8852e8d": {
          "model_module": "@jupyter-widgets/base",
          "model_name": "LayoutModel",
          "model_module_version": "1.2.0",
          "state": {
            "_model_module": "@jupyter-widgets/base",
            "_model_module_version": "1.2.0",
            "_model_name": "LayoutModel",
            "_view_count": null,
            "_view_module": "@jupyter-widgets/base",
            "_view_module_version": "1.2.0",
            "_view_name": "LayoutView",
            "align_content": null,
            "align_items": null,
            "align_self": null,
            "border": null,
            "bottom": null,
            "display": null,
            "flex": null,
            "flex_flow": null,
            "grid_area": null,
            "grid_auto_columns": null,
            "grid_auto_flow": null,
            "grid_auto_rows": null,
            "grid_column": null,
            "grid_gap": null,
            "grid_row": null,
            "grid_template_areas": null,
            "grid_template_columns": null,
            "grid_template_rows": null,
            "height": null,
            "justify_content": null,
            "justify_items": null,
            "left": null,
            "margin": null,
            "max_height": null,
            "max_width": null,
            "min_height": null,
            "min_width": null,
            "object_fit": null,
            "object_position": null,
            "order": null,
            "overflow": null,
            "overflow_x": null,
            "overflow_y": null,
            "padding": null,
            "right": null,
            "top": null,
            "visibility": null,
            "width": null
          }
        },
        "5104acf3c92b4ee489187a63e1e04918": {
          "model_module": "@jupyter-widgets/controls",
          "model_name": "ProgressStyleModel",
          "model_module_version": "1.5.0",
          "state": {
            "_model_module": "@jupyter-widgets/controls",
            "_model_module_version": "1.5.0",
            "_model_name": "ProgressStyleModel",
            "_view_count": null,
            "_view_module": "@jupyter-widgets/base",
            "_view_module_version": "1.2.0",
            "_view_name": "StyleView",
            "bar_color": null,
            "description_width": "initial"
          }
        },
        "ee2fc6d0140b46a09c2d21e6080f0ff9": {
          "model_module": "@jupyter-widgets/base",
          "model_name": "LayoutModel",
          "model_module_version": "1.2.0",
          "state": {
            "_model_module": "@jupyter-widgets/base",
            "_model_module_version": "1.2.0",
            "_model_name": "LayoutModel",
            "_view_count": null,
            "_view_module": "@jupyter-widgets/base",
            "_view_module_version": "1.2.0",
            "_view_name": "LayoutView",
            "align_content": null,
            "align_items": null,
            "align_self": null,
            "border": null,
            "bottom": null,
            "display": null,
            "flex": null,
            "flex_flow": null,
            "grid_area": null,
            "grid_auto_columns": null,
            "grid_auto_flow": null,
            "grid_auto_rows": null,
            "grid_column": null,
            "grid_gap": null,
            "grid_row": null,
            "grid_template_areas": null,
            "grid_template_columns": null,
            "grid_template_rows": null,
            "height": null,
            "justify_content": null,
            "justify_items": null,
            "left": null,
            "margin": null,
            "max_height": null,
            "max_width": null,
            "min_height": null,
            "min_width": null,
            "object_fit": null,
            "object_position": null,
            "order": null,
            "overflow": null,
            "overflow_x": null,
            "overflow_y": null,
            "padding": null,
            "right": null,
            "top": null,
            "visibility": null,
            "width": null
          }
        },
        "2470b9a1b3514590834a1f204452c31e": {
          "model_module": "@jupyter-widgets/controls",
          "model_name": "DescriptionStyleModel",
          "model_module_version": "1.5.0",
          "state": {
            "_model_module": "@jupyter-widgets/controls",
            "_model_module_version": "1.5.0",
            "_model_name": "DescriptionStyleModel",
            "_view_count": null,
            "_view_module": "@jupyter-widgets/base",
            "_view_module_version": "1.2.0",
            "_view_name": "StyleView",
            "description_width": ""
          }
        }
      }
    }
  },
  "cells": [
    {
      "cell_type": "code",
      "metadata": {
        "id": "Jw5RBjQMasW7"
      },
      "source": [
        "import pandas\n",
        "import numpy as np\n",
        "import keras\n",
        "from sklearn.model_selection import train_test_split"
      ],
      "execution_count": null,
      "outputs": []
    },
    {
      "cell_type": "code",
      "metadata": {
        "colab": {
          "base_uri": "https://localhost:8080/"
        },
        "id": "NHs2UK6umIgj",
        "outputId": "faa56cb6-bf87-49a3-d8fe-18900c79c5f5"
      },
      "source": [
        "from google.colab import drive\n",
        "drive.mount('/content/drive')"
      ],
      "execution_count": null,
      "outputs": [
        {
          "output_type": "stream",
          "name": "stdout",
          "text": [
            "Drive already mounted at /content/drive; to attempt to forcibly remount, call drive.mount(\"/content/drive\", force_remount=True).\n"
          ]
        }
      ]
    },
    {
      "cell_type": "code",
      "metadata": {
        "id": "qRqviA0BisLx"
      },
      "source": [
        "dataset = pandas.read_csv('/content/drive/MyDrive/threeminutes.csv')"
      ],
      "execution_count": null,
      "outputs": []
    },
    {
      "cell_type": "code",
      "metadata": {
        "colab": {
          "base_uri": "https://localhost:8080/",
          "height": 204
        },
        "id": "gmWOqOaTnsA7",
        "outputId": "f03b7f8c-5334-462a-ead0-6f82691b977b"
      },
      "source": [
        "dataset.head()"
      ],
      "execution_count": null,
      "outputs": [
        {
          "output_type": "execute_result",
          "data": {
            "text/html": [
              "<div>\n",
              "<style scoped>\n",
              "    .dataframe tbody tr th:only-of-type {\n",
              "        vertical-align: middle;\n",
              "    }\n",
              "\n",
              "    .dataframe tbody tr th {\n",
              "        vertical-align: top;\n",
              "    }\n",
              "\n",
              "    .dataframe thead th {\n",
              "        text-align: right;\n",
              "    }\n",
              "</style>\n",
              "<table border=\"1\" class=\"dataframe\">\n",
              "  <thead>\n",
              "    <tr style=\"text-align: right;\">\n",
              "      <th></th>\n",
              "      <th>TICKER</th>\n",
              "      <th>OPEN</th>\n",
              "      <th>HIGH</th>\n",
              "      <th>LOW</th>\n",
              "      <th>CLOSE</th>\n",
              "      <th>VOL</th>\n",
              "      <th>sma_3</th>\n",
              "      <th>ema_3</th>\n",
              "      <th>atr</th>\n",
              "      <th>adx</th>\n",
              "      <th>cci</th>\n",
              "      <th>rsi</th>\n",
              "      <th>wr</th>\n",
              "      <th>roc</th>\n",
              "      <th>stochrsi_d</th>\n",
              "      <th>stochrsi_k</th>\n",
              "      <th>fi_3</th>\n",
              "    </tr>\n",
              "  </thead>\n",
              "  <tbody>\n",
              "    <tr>\n",
              "      <th>0</th>\n",
              "      <td>AFKS</td>\n",
              "      <td>-0.003</td>\n",
              "      <td>0.001</td>\n",
              "      <td>0.001</td>\n",
              "      <td>-0.010</td>\n",
              "      <td>56600</td>\n",
              "      <td>20.093333</td>\n",
              "      <td>20.089749</td>\n",
              "      <td>0.016618</td>\n",
              "      <td>47.669710</td>\n",
              "      <td>-100.000000</td>\n",
              "      <td>40.693429</td>\n",
              "      <td>-87.500000</td>\n",
              "      <td>-0.059722</td>\n",
              "      <td>0.666667</td>\n",
              "      <td>0.333333</td>\n",
              "      <td>-231.890327</td>\n",
              "    </tr>\n",
              "    <tr>\n",
              "      <th>1</th>\n",
              "      <td>AFKS</td>\n",
              "      <td>-0.011</td>\n",
              "      <td>-0.002</td>\n",
              "      <td>0.000</td>\n",
              "      <td>-0.001</td>\n",
              "      <td>32200</td>\n",
              "      <td>20.088333</td>\n",
              "      <td>20.084874</td>\n",
              "      <td>0.015412</td>\n",
              "      <td>48.743718</td>\n",
              "      <td>-73.684211</td>\n",
              "      <td>38.390047</td>\n",
              "      <td>-93.750000</td>\n",
              "      <td>-0.069673</td>\n",
              "      <td>0.333333</td>\n",
              "      <td>0.000000</td>\n",
              "      <td>-132.045163</td>\n",
              "    </tr>\n",
              "    <tr>\n",
              "      <th>2</th>\n",
              "      <td>AFKS</td>\n",
              "      <td>0.013</td>\n",
              "      <td>0.002</td>\n",
              "      <td>0.001</td>\n",
              "      <td>0.015</td>\n",
              "      <td>114500</td>\n",
              "      <td>20.088000</td>\n",
              "      <td>20.088937</td>\n",
              "      <td>0.015275</td>\n",
              "      <td>54.164376</td>\n",
              "      <td>100.000000</td>\n",
              "      <td>72.901718</td>\n",
              "      <td>-0.000000</td>\n",
              "      <td>0.019909</td>\n",
              "      <td>0.222222</td>\n",
              "      <td>0.333333</td>\n",
              "      <td>792.727418</td>\n",
              "    </tr>\n",
              "    <tr>\n",
              "      <th>3</th>\n",
              "      <td>AFKS</td>\n",
              "      <td>-0.003</td>\n",
              "      <td>0.000</td>\n",
              "      <td>-0.005</td>\n",
              "      <td>-0.007</td>\n",
              "      <td>58000</td>\n",
              "      <td>20.087667</td>\n",
              "      <td>20.089469</td>\n",
              "      <td>0.016516</td>\n",
              "      <td>42.971297</td>\n",
              "      <td>-20.000000</td>\n",
              "      <td>52.367608</td>\n",
              "      <td>-36.842105</td>\n",
              "      <td>0.034859</td>\n",
              "      <td>0.267223</td>\n",
              "      <td>0.468337</td>\n",
              "      <td>193.363709</td>\n",
              "    </tr>\n",
              "    <tr>\n",
              "      <th>4</th>\n",
              "      <td>AFKS</td>\n",
              "      <td>-0.002</td>\n",
              "      <td>-0.005</td>\n",
              "      <td>-0.036</td>\n",
              "      <td>-0.031</td>\n",
              "      <td>137500</td>\n",
              "      <td>20.090333</td>\n",
              "      <td>20.088734</td>\n",
              "      <td>0.027678</td>\n",
              "      <td>57.971299</td>\n",
              "      <td>-100.000000</td>\n",
              "      <td>18.239671</td>\n",
              "      <td>-69.090909</td>\n",
              "      <td>-0.114542</td>\n",
              "      <td>0.423335</td>\n",
              "      <td>0.468337</td>\n",
              "      <td>-2034.568145</td>\n",
              "    </tr>\n",
              "  </tbody>\n",
              "</table>\n",
              "</div>"
            ],
            "text/plain": [
              "  TICKER   OPEN   HIGH    LOW  ...       roc  stochrsi_d  stochrsi_k         fi_3\n",
              "0   AFKS -0.003  0.001  0.001  ... -0.059722    0.666667    0.333333  -231.890327\n",
              "1   AFKS -0.011 -0.002  0.000  ... -0.069673    0.333333    0.000000  -132.045163\n",
              "2   AFKS  0.013  0.002  0.001  ...  0.019909    0.222222    0.333333   792.727418\n",
              "3   AFKS -0.003  0.000 -0.005  ...  0.034859    0.267223    0.468337   193.363709\n",
              "4   AFKS -0.002 -0.005 -0.036  ... -0.114542    0.423335    0.468337 -2034.568145\n",
              "\n",
              "[5 rows x 17 columns]"
            ]
          },
          "metadata": {},
          "execution_count": 35
        }
      ]
    },
    {
      "cell_type": "code",
      "metadata": {
        "id": "079zOwd_f9l3"
      },
      "source": [
        "dataset.replace([np.inf, -np.inf], np.nan, inplace=True)\n",
        "dataset.interpolate(inplace = True)"
      ],
      "execution_count": null,
      "outputs": []
    },
    {
      "cell_type": "code",
      "metadata": {
        "id": "_CD-F3zEn3FV"
      },
      "source": [
        "data = dataset[['TICKER', 'OPEN', 'HIGH', 'LOW', 'CLOSE', 'VOL', 'sma_3', 'ema_3', 'atr', 'adx', 'cci', 'rsi', 'wr']]"
      ],
      "execution_count": null,
      "outputs": []
    },
    {
      "cell_type": "code",
      "metadata": {
        "id": "xWHrVPPSOtFD"
      },
      "source": [
        "horizon = 1"
      ],
      "execution_count": null,
      "outputs": []
    },
    {
      "cell_type": "code",
      "metadata": {
        "id": "ZxvW5O6Ii1pT"
      },
      "source": [
        "from keras import Sequential\n",
        "from keras.layers import LSTM\n",
        "from keras.layers import Dense\n",
        "from keras.losses import CategoricalCrossentropy\n",
        "from sklearn.metrics import accuracy_score, mean_absolute_error\n",
        "from sklearn.preprocessing import StandardScaler\n",
        "\n",
        "class Model:\n",
        "    def __init__(self, n_steps, data):\n",
        "        print('Init...')\n",
        "        self.n_steps = n_steps\n",
        "        self.data = data\n",
        "\n",
        "    def scale_data(self, data):\n",
        "        print('Scaling data...')\n",
        "        scaler = StandardScaler()\n",
        "        self.data[['OPEN', 'HIGH', 'LOW', 'CLOSE', 'VOL', 'sma_3', 'ema_3', 'atr', 'adx', 'cci', 'rsi', 'wr']] = scaler.fit_transform(\n",
        "            self.data[['OPEN', 'HIGH', 'LOW', 'CLOSE', 'VOL', 'sma_3', 'ema_3', 'atr', 'adx', 'cci', 'rsi', 'wr']])\n",
        "\n",
        "\n",
        "    def split_sequence(self, what_to_predict, prediction_horizon):\n",
        "        print('Spliting sequences...')\n",
        "        self.prediction_horizon = prediction_horizon\n",
        "        X, y = list(), list()\n",
        "        for element in data['TICKER'].unique():\n",
        "            sequences = data[data['TICKER'] == element].drop(columns = 'TICKER').to_numpy()\n",
        "            for i in range(len(sequences)):\n",
        "                # find the end of this pattern\n",
        "                end_ix = i + self.n_steps\n",
        "                # check if we are beyond the sequence\n",
        "                if end_ix > len(sequences)-1-self.prediction_horizon:\n",
        "                    break\n",
        "                # gather input and output parts of the pattern\n",
        "                if what_to_predict == 'Open':\n",
        "                    seq_x, seq_y = sequences[i:end_ix], sequences[end_ix: end_ix + self.prediction_horizon, 0]\n",
        "                if what_to_predict == 'High':\n",
        "                    seq_x, seq_y = sequences[i:end_ix], sequences[end_ix: end_ix + self.prediction_horizon, 1]\n",
        "                if what_to_predict == 'Low':\n",
        "                    seq_x, seq_y = sequences[i:end_ix], sequences[end_ix: end_ix + self.prediction_horizon, 2]\n",
        "                if what_to_predict == 'Close':\n",
        "                    seq_x, seq_y = sequences[i:end_ix], sequences[end_ix: end_ix + self.prediction_horizon, 3]\n",
        "                if what_to_predict == 'Class':\n",
        "                    seq_y = []\n",
        "                    for j in range(self.prediction_horizon):\n",
        "                        seq_y_j = [sequences[end_ix + j][0] > 0, \n",
        "                                   sequences[end_ix + j][0] < 0]\n",
        "                                   #sequences[end_ix + j][0] == 0]\n",
        "                        seq_y.append(np.array(seq_y_j).astype(int))\n",
        "                    seq_x = sequences[i:end_ix]\n",
        "                X.append(seq_x)\n",
        "                y.append(seq_y)\n",
        "        self.X, self.Y = np.array(X), np.array(y)\n",
        "\n",
        "\n",
        "    def create_train_test(self):\n",
        "        print('Creating train set...')\n",
        "        print(self.X.shape, self.Y.shape)\n",
        "        return self.X, self.Y"
      ],
      "execution_count": null,
      "outputs": []
    },
    {
      "cell_type": "code",
      "metadata": {
        "colab": {
          "base_uri": "https://localhost:8080/"
        },
        "id": "1ws3ZNeW2m82",
        "outputId": "faf32429-b237-49b3-b00a-cdc2c8f9d88e"
      },
      "source": [
        "model = Model(10, data)\n",
        "model.scale_data(data)\n",
        "model.split_sequence('Close', horizon)\n",
        "X, Y = model.create_train_test()"
      ],
      "execution_count": null,
      "outputs": [
        {
          "output_type": "stream",
          "name": "stdout",
          "text": [
            "Init...\n",
            "Scaling data...\n"
          ]
        },
        {
          "output_type": "stream",
          "name": "stderr",
          "text": [
            "/usr/local/lib/python3.7/dist-packages/ipykernel_launcher.py:18: SettingWithCopyWarning: \n",
            "A value is trying to be set on a copy of a slice from a DataFrame.\n",
            "Try using .loc[row_indexer,col_indexer] = value instead\n",
            "\n",
            "See the caveats in the documentation: https://pandas.pydata.org/pandas-docs/stable/user_guide/indexing.html#returning-a-view-versus-a-copy\n",
            "/usr/local/lib/python3.7/dist-packages/pandas/core/indexing.py:1734: SettingWithCopyWarning: \n",
            "A value is trying to be set on a copy of a slice from a DataFrame.\n",
            "Try using .loc[row_indexer,col_indexer] = value instead\n",
            "\n",
            "See the caveats in the documentation: https://pandas.pydata.org/pandas-docs/stable/user_guide/indexing.html#returning-a-view-versus-a-copy\n",
            "  isetter(loc, value[:, i].tolist())\n"
          ]
        },
        {
          "output_type": "stream",
          "name": "stdout",
          "text": [
            "Spliting sequences...\n",
            "Creating train set...\n",
            "(1654979, 10, 12) (1654979, 1)\n"
          ]
        }
      ]
    },
    {
      "cell_type": "code",
      "metadata": {
        "colab": {
          "base_uri": "https://localhost:8080/"
        },
        "id": "IKqPrYGkFUc9",
        "outputId": "f04a8f66-80bb-4809-fb05-2067e8672a74"
      },
      "source": [
        "import gc\n",
        "del data \n",
        "gc.collect()"
      ],
      "execution_count": null,
      "outputs": [
        {
          "output_type": "execute_result",
          "data": {
            "text/plain": [
              "3077"
            ]
          },
          "metadata": {},
          "execution_count": 41
        }
      ]
    },
    {
      "cell_type": "code",
      "metadata": {
        "colab": {
          "base_uri": "https://localhost:8080/"
        },
        "id": "9cmKNF-86xaE",
        "outputId": "f40213c2-621c-49d7-f5d1-9cb05fdaf6e6"
      },
      "source": [
        "print(X.shape)"
      ],
      "execution_count": null,
      "outputs": [
        {
          "output_type": "stream",
          "name": "stdout",
          "text": [
            "(1654979, 10, 12)\n"
          ]
        }
      ]
    },
    {
      "cell_type": "code",
      "metadata": {
        "id": "6ZlTu7hMxSHw"
      },
      "source": [
        "## Dataloader\n",
        "from torch import tensor\n",
        "from torch.utils.data import Dataset, DataLoader\n",
        "class StockPriceDataset(Dataset):\n",
        "\n",
        "    def __init__(self, X, Y, batch_size):\n",
        "        self.X = tensor(X)\n",
        "        self.Y = tensor(Y)\n",
        "        self.batch_size = batch_size\n",
        "\n",
        "    def __len__(self):\n",
        "        return (len(self.X) // self.batch_size) * self.batch_size\n",
        "\n",
        "    def __getitem__(self, idx):\n",
        "        if torch.is_tensor(idx):\n",
        "            idx = idx.tolist()\n",
        "\n",
        "\n",
        "        sample = (X[idx], Y[idx])\n",
        "\n",
        "        return sample"
      ],
      "execution_count": null,
      "outputs": []
    },
    {
      "cell_type": "code",
      "metadata": {
        "id": "wr-DXWvH3116"
      },
      "source": [
        "import torch\n",
        "import torch.nn as nn\n",
        "def loss_criterion(Y_pred, Y_true):\n",
        "    mse_loss = nn.MSELoss()\n",
        "    eps=1e-7\n",
        "    return mse_loss(Y_pred, Y_true)+eps"
      ],
      "execution_count": null,
      "outputs": []
    },
    {
      "cell_type": "code",
      "metadata": {
        "id": "wRKMigSYFndr"
      },
      "source": [
        "def accuracy_criterion(Y_pred, Y_true):\n",
        "    Y_pred_converted = torch.argmax(Y_pred, dim = 2)\n",
        "    Y_true_converted = torch.argmax(Y_true, dim = 2)\n",
        "    return torch.eq(Y_pred_converted, Y_true_converted).float().mean()"
      ],
      "execution_count": null,
      "outputs": []
    },
    {
      "cell_type": "code",
      "metadata": {
        "id": "iniLA_MEx9EE"
      },
      "source": [
        "#model\n",
        "from torch import nn\n",
        "class LSTMStock(nn.Module):\n",
        "\n",
        "    def __init__(self, n_steps, input_size, hidden_dim, prediction_horizon, classes, batch_size):\n",
        "        super(LSTMStock, self).__init__()\n",
        "\n",
        "        self.prediction_horizon = prediction_horizon\n",
        "        self.classes = classes\n",
        "        self.hidden_dim = hidden_dim\n",
        "        self.batch_size = batch_size\n",
        "        self.n_steps = n_steps\n",
        "        self.lstm = nn.LSTM(input_size, self.hidden_dim, num_layers = 2, dropout = 0.2)\n",
        "        self.hidden = nn.Linear(self.hidden_dim * self.n_steps, self.prediction_horizon * self.classes)\n",
        "        self.softmax = nn.Softmax(dim = 2)\n",
        "\n",
        "    def forward(self, X):\n",
        "        lstm_out, _ = self.lstm(X)\n",
        "        hidden_out = self.hidden(torch.flatten(lstm_out.squeeze().permute(1, 0, 2), start_dim= 1))\n",
        "        hidden_out_reshaped = hidden_out.reshape(self.batch_size, self.prediction_horizon, self.classes)\n",
        "        softmaxed = self.softmax(hidden_out_reshaped)\n",
        "        return softmaxed"
      ],
      "execution_count": null,
      "outputs": []
    },
    {
      "cell_type": "code",
      "metadata": {
        "id": "UjYew--SJqei"
      },
      "source": [
        "import matplotlib.pyplot as plt\n",
        "from IPython.display import clear_output\n",
        "\n",
        "def plot_history(train_history, val_history, title='loss'):\n",
        "    plt.figure()\n",
        "    plt.title('{}'.format(title))\n",
        "    plt.plot(train_history, label='train', zorder=1)\n",
        "    \n",
        "    points = np.array(val_history)\n",
        "    steps = list(range(0, len(train_history) + 1, int(len(train_history) / len(val_history))))[1:]\n",
        "    \n",
        "    plt.scatter(steps, val_history, marker='+', s=180, c='orange', label='val', zorder=2)\n",
        "    plt.xlabel('train steps')\n",
        "    \n",
        "    plt.legend(loc='best')\n",
        "    plt.grid()\n",
        "\n",
        "    plt.show()"
      ],
      "execution_count": null,
      "outputs": []
    },
    {
      "cell_type": "code",
      "metadata": {
        "colab": {
          "base_uri": "https://localhost:8080/",
          "height": 1000,
          "referenced_widgets": [
            "a5c1960e83f44faeba0121cd867831e9",
            "10bd2bf0b93e4d0ca219c2566b3e30ab",
            "f4703e46803d477b9931ee9707adcd86",
            "7c25d10dd8b2474f8130b3043a82ceaa",
            "71081c8aba724233b851ffc742aed026",
            "f0ba852c02314ecab0f78b1ab1527217",
            "93cb6845c4b44c2c99dcb8efb26009ab",
            "4370f434a9d0426c8b88f9bd8ef98c11",
            "32cb33e928cb42f7807c51c155d57727",
            "0bbe548999ae486a936efbab58bcc2d6",
            "d3abcbd47b04442f9febd1d0f2296432"
          ]
        },
        "id": "XVHT2um92DVR",
        "outputId": "b07eb50c-9a39-490f-a9f2-7d3d1bde0c69"
      },
      "source": [
        "from IPython.display import clear_output\n",
        "from sklearn.model_selection import train_test_split\n",
        "from tqdm import tqdm_notebook\n",
        "X_train, X_test, Y_train, Y_test = train_test_split(X, Y)\n",
        "train_batch_size = 16\n",
        "test_batch_size = 16\n",
        "train_dataset = StockPriceDataset(X_train, Y_train, train_batch_size)\n",
        "test_dataset = StockPriceDataset(X_test, Y_test, test_batch_size)\n",
        "print(dataset.__len__())\n",
        "train_dataloader = DataLoader(train_dataset, batch_size = train_batch_size, shuffle = True)\n",
        "test_dataloader = DataLoader(test_dataset, batch_size = test_batch_size)\n",
        "model = LSTMStock(10, 12, 64, horizon, 2, train_batch_size)\n",
        "optimizer = torch.optim.Adam(model.parameters()) ### МОЖНО НАСТРАИВАТЬ ###\n",
        "DEVICE = 'cuda:0' if torch.cuda.is_available() else 'cpu'\n",
        "epochs = 1\n",
        "train_loss_cumul = 0\n",
        "val_loss_cumul = 0\n",
        "train_accuracy_cumul = 0\n",
        "val_accuracy_cumul = 0\n",
        "train_loss_history = []\n",
        "val_loss_history = []\n",
        "train_accuracy_history = []\n",
        "val_accuracy_history = []\n",
        "train_size = 0\n",
        "val_size = 0\n",
        "for epoch in range(epochs):\n",
        "    print('Epoch:', epoch + 1)\n",
        "    #train\n",
        "    model.train()\n",
        "    print(\"Training\")\n",
        "    for x, y in tqdm_notebook(train_dataloader):\n",
        "        # find loss\n",
        "        x = x.permute(1, 0, 2).float().to(DEVICE)\n",
        "        y = y.to(DEVICE)\n",
        "        model = model.to(DEVICE)\n",
        "        output = model(x.float()).float()\n",
        "        loss = loss_criterion(output.float(), y.float()).mean().float()\n",
        "\n",
        "        #step\n",
        "        optimizer.zero_grad()\n",
        "        loss.backward()\n",
        "        torch.nn.utils.clip_grad_norm_(model.parameters(), 1)\n",
        "        optimizer.step()\n",
        "\n",
        "        # accumulate loss and loss history\n",
        "        # print loss\n",
        "        train_size += 1\n",
        "        train_loss_cumul += loss.detach().item()\n",
        "        train_loss_history.append(train_loss_cumul / train_size)\n",
        "        if train_size % 1000 == 0:\n",
        "            print(train_loss_cumul / train_size)"
      ],
      "execution_count": null,
      "outputs": [
        {
          "output_type": "stream",
          "name": "stdout",
          "text": [
            "1655199\n",
            "Epoch: 1\n",
            "Training\n"
          ]
        },
        {
          "output_type": "stream",
          "name": "stderr",
          "text": [
            "/usr/local/lib/python3.7/dist-packages/ipykernel_launcher.py:31: TqdmDeprecationWarning: This function will be removed in tqdm==5.0.0\n",
            "Please use `tqdm.notebook.tqdm` instead of `tqdm.tqdm_notebook`\n"
          ]
        },
        {
          "output_type": "display_data",
          "data": {
            "application/vnd.jupyter.widget-view+json": {
              "model_id": "a5c1960e83f44faeba0121cd867831e9",
              "version_minor": 0,
              "version_major": 2
            },
            "text/plain": [
              "  0%|          | 0/77577 [00:00<?, ?it/s]"
            ]
          },
          "metadata": {}
        },
        {
          "output_type": "stream",
          "name": "stderr",
          "text": [
            "/usr/local/lib/python3.7/dist-packages/torch/nn/modules/loss.py:528: UserWarning: Using a target size (torch.Size([16, 1])) that is different to the input size (torch.Size([16, 1, 2])). This will likely lead to incorrect results due to broadcasting. Please ensure they have the same size.\n",
            "  return F.mse_loss(input, target, reduction=self.reduction)\n"
          ]
        },
        {
          "output_type": "stream",
          "name": "stdout",
          "text": [
            "1.1883199789971113\n",
            "1.274279890589416\n",
            "1.2158374554514886\n",
            "1.1794538881070913\n",
            "1.1739447990655898\n",
            "1.1702074219708642\n",
            "1.1648406457794565\n",
            "1.1671657419335097\n",
            "1.1636230295168029\n",
            "1.166627225625515\n",
            "1.172496383745562\n",
            "1.1739917132357756\n",
            "1.1666081726642756\n",
            "1.1622649724589926\n",
            "1.1545578734437625\n",
            "1.1558961816793307\n",
            "1.153312206448001\n",
            "1.1555679918660058\n",
            "1.1483900036788302\n",
            "1.1473797373279928\n",
            "1.1499159183722167\n",
            "1.1464278832254085\n",
            "1.141882608965687\n",
            "1.1433531996744375\n",
            "1.1593041993206739\n",
            "1.161741845944753\n",
            "1.1572551483892732\n",
            "1.159565254624933\n",
            "1.1583323905036367\n",
            "1.1567598237713177\n",
            "1.156480605878657\n",
            "1.1554826666074804\n",
            "1.1566747164766897\n",
            "1.1560752683286282\n",
            "1.1555392645090818\n",
            "1.1506753740294111\n",
            "1.1540175992282662\n",
            "1.1526773469840226\n",
            "1.1564337454980764\n",
            "1.1549931769695132\n",
            "1.1655005949484867\n",
            "1.164531060138274\n",
            "1.1697328339142854\n",
            "1.1705352590490472\n",
            "1.1706474575152\n",
            "1.168407421094244\n",
            "1.1675921906841562\n",
            "1.1668952669044956\n",
            "1.1694594880135691\n",
            "1.1678141389000416\n",
            "1.1683764212493803\n",
            "1.1697100649089194\n",
            "1.1682036933910172\n",
            "1.1718578389286995\n",
            "1.1742773857485165\n",
            "1.170990533769929\n",
            "1.1728182427522382\n",
            "1.1730262196996601\n",
            "1.1718398279320386\n",
            "1.171204732649525\n",
            "1.1927063863072238\n",
            "1.1915603969241342\n",
            "1.190681641279232\n",
            "1.1901901474653278\n",
            "1.189434035739761\n",
            "1.1889891987307506\n",
            "1.191810453004579\n",
            "1.1904419041205856\n",
            "1.191798107740024\n",
            "1.192486722716689\n",
            "1.1906459238722291\n",
            "1.188783145763394\n",
            "1.1884531633717148\n",
            "1.1885255770576564\n",
            "1.1889020105940105\n",
            "1.187402020424016\n",
            "1.1893296213180988\n"
          ]
        }
      ]
    },
    {
      "cell_type": "code",
      "metadata": {
        "id": "r7NNlESXpbBt"
      },
      "source": [
        "from sklearn.metrics import mean_squared_error, mean_absolute_error \n",
        "def return_predictions_light(model, dataloader):\n",
        "    model.eval()\n",
        "    mse = 0\n",
        "    mae = 0\n",
        "    for x_test, y_test in tqdm_notebook(dataloader):\n",
        "        y_test = y_test.squeeze().to(DEVICE)\n",
        "        x_test = x_test.squeeze().permute(1, 0, 2).float().to(DEVICE)\n",
        "        model = model.to(DEVICE)\n",
        "        output = torch.argmax(model(x_test), 2).squeeze()\n",
        "        y_test = torch.argmax(y_test, 2).squeeze()\n",
        "        output = output.squeeze().detach().cpu().numpy().astype(float)\n",
        "        y_test = y_test.squeeze().detach().cpu().numpy().astype(float)\n",
        "        output = output.reshape(output.shape[0] * output.shape[1])\n",
        "        y_test = y_test.reshape(y_test.shape[0] * y_test.shape[1])\n",
        "        mse += mean_squared_error(y_test, output)\n",
        "        mae += mean_absolute_error(y_test, output)\n",
        "    return mse / len(dataloader), mae / len(dataloader)"
      ],
      "execution_count": null,
      "outputs": []
    },
    {
      "cell_type": "code",
      "metadata": {
        "colab": {
          "base_uri": "https://localhost:8080/",
          "height": 412,
          "referenced_widgets": [
            "204b3abc354d4621840f03bc3cdbcde5",
            "858b34dfea0043f2a5f2883843f078e9",
            "185abafcebd14379aafc8d762f943b47",
            "84d9fde4d6cb43c687b5b5171814ff00",
            "e0aaa14834444fbeaf731895917f1cad",
            "66c00cb60b1f47ce9340ff3934a20316",
            "75b07ac340eb4869b5999cfc85955813",
            "0c9f320bd8de403790be357111bd7119",
            "d9bafd0e6c0c4ba4acf7d437608400c2",
            "af56fdc0b88c4e0abeb0cb57d17f068d",
            "4f1305d9cf0745e1b4b7b48dc47b0b4d"
          ]
        },
        "id": "q7jMZDoBqVU0",
        "outputId": "0254ae8f-152a-41a0-a20d-cbe3b8216301"
      },
      "source": [
        "mse, mae = return_predictions_light(model, test_dataloader)\n",
        "print('MSE:', mse)\n",
        "print('MAE:', mae)"
      ],
      "execution_count": null,
      "outputs": [
        {
          "output_type": "stream",
          "name": "stderr",
          "text": [
            "/usr/local/lib/python3.7/dist-packages/ipykernel_launcher.py:6: TqdmDeprecationWarning: This function will be removed in tqdm==5.0.0\n",
            "Please use `tqdm.notebook.tqdm` instead of `tqdm.tqdm_notebook`\n",
            "  \n"
          ]
        },
        {
          "output_type": "display_data",
          "data": {
            "application/vnd.jupyter.widget-view+json": {
              "model_id": "204b3abc354d4621840f03bc3cdbcde5",
              "version_minor": 0,
              "version_major": 2
            },
            "text/plain": [
              "  0%|          | 0/25859 [00:00<?, ?it/s]"
            ]
          },
          "metadata": {}
        },
        {
          "output_type": "error",
          "ename": "IndexError",
          "evalue": "ignored",
          "traceback": [
            "\u001b[0;31m---------------------------------------------------------------------------\u001b[0m",
            "\u001b[0;31mIndexError\u001b[0m                                Traceback (most recent call last)",
            "\u001b[0;32m<ipython-input-56-5f3029e91ebc>\u001b[0m in \u001b[0;36m<module>\u001b[0;34m()\u001b[0m\n\u001b[0;32m----> 1\u001b[0;31m \u001b[0mmse\u001b[0m\u001b[0;34m,\u001b[0m \u001b[0mmae\u001b[0m \u001b[0;34m=\u001b[0m \u001b[0mreturn_predictions_light\u001b[0m\u001b[0;34m(\u001b[0m\u001b[0mmodel\u001b[0m\u001b[0;34m,\u001b[0m \u001b[0mtest_dataloader\u001b[0m\u001b[0;34m)\u001b[0m\u001b[0;34m\u001b[0m\u001b[0;34m\u001b[0m\u001b[0m\n\u001b[0m\u001b[1;32m      2\u001b[0m \u001b[0mprint\u001b[0m\u001b[0;34m(\u001b[0m\u001b[0;34m'MSE:'\u001b[0m\u001b[0;34m,\u001b[0m \u001b[0mmse\u001b[0m\u001b[0;34m)\u001b[0m\u001b[0;34m\u001b[0m\u001b[0;34m\u001b[0m\u001b[0m\n\u001b[1;32m      3\u001b[0m \u001b[0mprint\u001b[0m\u001b[0;34m(\u001b[0m\u001b[0;34m'MAE:'\u001b[0m\u001b[0;34m,\u001b[0m \u001b[0mmae\u001b[0m\u001b[0;34m)\u001b[0m\u001b[0;34m\u001b[0m\u001b[0;34m\u001b[0m\u001b[0m\n",
            "\u001b[0;32m<ipython-input-55-e5fcc330114b>\u001b[0m in \u001b[0;36mreturn_predictions_light\u001b[0;34m(model, dataloader)\u001b[0m\n\u001b[1;32m      9\u001b[0m         \u001b[0mmodel\u001b[0m \u001b[0;34m=\u001b[0m \u001b[0mmodel\u001b[0m\u001b[0;34m.\u001b[0m\u001b[0mto\u001b[0m\u001b[0;34m(\u001b[0m\u001b[0mDEVICE\u001b[0m\u001b[0;34m)\u001b[0m\u001b[0;34m\u001b[0m\u001b[0;34m\u001b[0m\u001b[0m\n\u001b[1;32m     10\u001b[0m         \u001b[0moutput\u001b[0m \u001b[0;34m=\u001b[0m \u001b[0mtorch\u001b[0m\u001b[0;34m.\u001b[0m\u001b[0margmax\u001b[0m\u001b[0;34m(\u001b[0m\u001b[0mmodel\u001b[0m\u001b[0;34m(\u001b[0m\u001b[0mx_test\u001b[0m\u001b[0;34m)\u001b[0m\u001b[0;34m,\u001b[0m \u001b[0;36m2\u001b[0m\u001b[0;34m)\u001b[0m\u001b[0;34m.\u001b[0m\u001b[0msqueeze\u001b[0m\u001b[0;34m(\u001b[0m\u001b[0;34m)\u001b[0m\u001b[0;34m\u001b[0m\u001b[0;34m\u001b[0m\u001b[0m\n\u001b[0;32m---> 11\u001b[0;31m         \u001b[0my_test\u001b[0m \u001b[0;34m=\u001b[0m \u001b[0mtorch\u001b[0m\u001b[0;34m.\u001b[0m\u001b[0margmax\u001b[0m\u001b[0;34m(\u001b[0m\u001b[0my_test\u001b[0m\u001b[0;34m,\u001b[0m \u001b[0;36m2\u001b[0m\u001b[0;34m)\u001b[0m\u001b[0;34m.\u001b[0m\u001b[0msqueeze\u001b[0m\u001b[0;34m(\u001b[0m\u001b[0;34m)\u001b[0m\u001b[0;34m\u001b[0m\u001b[0;34m\u001b[0m\u001b[0m\n\u001b[0m\u001b[1;32m     12\u001b[0m         \u001b[0moutput\u001b[0m \u001b[0;34m=\u001b[0m \u001b[0moutput\u001b[0m\u001b[0;34m.\u001b[0m\u001b[0msqueeze\u001b[0m\u001b[0;34m(\u001b[0m\u001b[0;34m)\u001b[0m\u001b[0;34m.\u001b[0m\u001b[0mdetach\u001b[0m\u001b[0;34m(\u001b[0m\u001b[0;34m)\u001b[0m\u001b[0;34m.\u001b[0m\u001b[0mcpu\u001b[0m\u001b[0;34m(\u001b[0m\u001b[0;34m)\u001b[0m\u001b[0;34m.\u001b[0m\u001b[0mnumpy\u001b[0m\u001b[0;34m(\u001b[0m\u001b[0;34m)\u001b[0m\u001b[0;34m.\u001b[0m\u001b[0mastype\u001b[0m\u001b[0;34m(\u001b[0m\u001b[0mfloat\u001b[0m\u001b[0;34m)\u001b[0m\u001b[0;34m\u001b[0m\u001b[0;34m\u001b[0m\u001b[0m\n\u001b[1;32m     13\u001b[0m         \u001b[0my_test\u001b[0m \u001b[0;34m=\u001b[0m \u001b[0my_test\u001b[0m\u001b[0;34m.\u001b[0m\u001b[0msqueeze\u001b[0m\u001b[0;34m(\u001b[0m\u001b[0;34m)\u001b[0m\u001b[0;34m.\u001b[0m\u001b[0mdetach\u001b[0m\u001b[0;34m(\u001b[0m\u001b[0;34m)\u001b[0m\u001b[0;34m.\u001b[0m\u001b[0mcpu\u001b[0m\u001b[0;34m(\u001b[0m\u001b[0;34m)\u001b[0m\u001b[0;34m.\u001b[0m\u001b[0mnumpy\u001b[0m\u001b[0;34m(\u001b[0m\u001b[0;34m)\u001b[0m\u001b[0;34m.\u001b[0m\u001b[0mastype\u001b[0m\u001b[0;34m(\u001b[0m\u001b[0mfloat\u001b[0m\u001b[0;34m)\u001b[0m\u001b[0;34m\u001b[0m\u001b[0;34m\u001b[0m\u001b[0m\n",
            "\u001b[0;31mIndexError\u001b[0m: Dimension out of range (expected to be in range of [-1, 0], but got 2)"
          ]
        }
      ]
    },
    {
      "cell_type": "code",
      "metadata": {
        "id": "4d6gQ9Rb0ai-"
      },
      "source": [
        "from sklearn.metrics import f1_score, precision_score, recall_score, roc_auc_score, accuracy_score, confusion_matrix\n",
        "def return_predictions_light(model, dataloader):\n",
        "    model.eval()\n",
        "    cm = np.zeros((2, 2))\n",
        "    accuracy = 0\n",
        "    f1 = 0\n",
        "    precision = 0\n",
        "    recall = 0\n",
        "    roc_auc = 0\n",
        "    for x_test, y_test in tqdm_notebook(dataloader):\n",
        "        y_test = y_test.squeeze().to(DEVICE)\n",
        "        x_test = x_test.squeeze().permute(1, 0, 2).float().to(DEVICE)\n",
        "        model = model.to(DEVICE)\n",
        "        output = torch.argmax(model(x_test), 2).squeeze()\n",
        "        y_test = torch.argmax(y_test, 2).squeeze()\n",
        "        output = output.squeeze().detach().cpu().numpy().astype(int)\n",
        "        y_test = y_test.squeeze().detach().cpu().numpy().astype(int)\n",
        "        output = output.reshape(output.shape[0] * output.shape[1])\n",
        "        y_test = y_test.reshape(y_test.shape[0] * y_test.shape[1])\n",
        "        accuracy += accuracy_score(y_test, output)\n",
        "        f1 += f1_score(y_test, output)\n",
        "        precision += precision_score(y_test, output)\n",
        "        recall += recall_score(y_test, output)\n",
        "        #roc_auc += roc_auc_score(y_test, output)\n",
        "        cm += confusion_matrix(y_test, output)\n",
        "    return accuracy / len(dataloader), f1 / len(dataloader), precision / len(dataloader), recall / len(dataloader), cm"
      ],
      "execution_count": null,
      "outputs": []
    },
    {
      "cell_type": "code",
      "metadata": {
        "colab": {
          "background_save": true,
          "base_uri": "https://localhost:8080/",
          "height": 104,
          "referenced_widgets": [
            "e2041912b3154b32bb0036acd5eaed85",
            "9bcc72692bb847a2aba6203814874f9a",
            "12a497f6fa7d4b8e8022beedcf445f9a",
            "52fc78d6ab304aba93029755ef0a11d8",
            "36d76e467d334dd69b6ef5eae8852e8d",
            "5104acf3c92b4ee489187a63e1e04918",
            "ee2fc6d0140b46a09c2d21e6080f0ff9",
            "2470b9a1b3514590834a1f204452c31e"
          ]
        },
        "id": "3DT6okuKzo3A",
        "outputId": "492dc7a1-0453-451e-aab8-f5eae60833ac"
      },
      "source": [
        "import seaborn\n",
        "#predictions, y_test_array = return_predictions(model, test_dataloader)\n",
        "accuracy, f1, precision, recall, cm = return_predictions_light(model, test_dataloader)\n",
        "print('accuracy:', accuracy)\n",
        "print('f1:', f1)\n",
        "print('precision:', precision)\n",
        "print('recall:', recall)\n",
        "#print('auc:', auc(predictions, y_test_array))\n",
        "#print('roc-auc:', roc_auc)\n",
        "df_cm = pandas.DataFrame(cm, index = [i for i in [-1, 1]],\n",
        "                  columns = [i for i in [-1, 1]])\n",
        "plt.figure(figsize = (5,3))\n",
        "seaborn.heatmap(df_cm, annot=True)"
      ],
      "execution_count": null,
      "outputs": [
        {
          "output_type": "stream",
          "text": [
            "/usr/local/lib/python3.7/dist-packages/ipykernel_launcher.py:10: TqdmDeprecationWarning: This function will be removed in tqdm==5.0.0\n",
            "Please use `tqdm.notebook.tqdm` instead of `tqdm.tqdm_notebook`\n",
            "  # Remove the CWD from sys.path while we load stuff.\n"
          ],
          "name": "stderr"
        },
        {
          "output_type": "display_data",
          "data": {
            "application/vnd.jupyter.widget-view+json": {
              "model_id": "e2041912b3154b32bb0036acd5eaed85",
              "version_major": 2,
              "version_minor": 0
            },
            "text/plain": [
              "HBox(children=(FloatProgress(value=0.0, max=25859.0), HTML(value='')))"
            ]
          },
          "metadata": {
            "tags": []
          }
        },
        {
          "output_type": "stream",
          "text": [
            "\n",
            "accuracy: 0.6665409850857854\n",
            "f1: 0.7697770776336493\n",
            "precision: 0.6527155080497614\n",
            "recall: 0.9586095234129819\n"
          ],
          "name": "stdout"
        },
        {
          "output_type": "execute_result",
          "data": {
            "text/plain": [
              "<matplotlib.axes._subplots.AxesSubplot at 0x7fbc3b85d110>"
            ]
          },
          "metadata": {
            "tags": []
          },
          "execution_count": 0
        },
        {
          "output_type": "display_data",
          "data": {
            "image/png": "[encoded data removed]",
            "text/plain": [
              "<Figure size 360x216 with 2 Axes>"
            ]
          },
          "metadata": {
            "tags": []
          }
        }
      ]
    }
  ]
}